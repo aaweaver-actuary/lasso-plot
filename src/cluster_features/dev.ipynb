{
 "cells": [
  {
   "cell_type": "code",
   "execution_count": 1,
   "metadata": {},
   "outputs": [],
   "source": [
    "%run ./distance.py\n",
    "%run ./hierarchical.py\n",
    "%run ../lasso_plot/duck_db.py\n",
    "\n",
    "# from cluster_features.distance import euclidean_distance_pl\n",
    "\n",
    "db = DuckDB(\"./data.duckdb\")"
   ]
  },
  {
   "cell_type": "code",
   "execution_count": 2,
   "metadata": {},
   "outputs": [
    {
     "data": {
      "text/plain": [
       "((569, 48), (569,))"
      ]
     },
     "execution_count": 2,
     "metadata": {},
     "output_type": "execute_result"
    }
   ],
   "source": [
    "import pandas as pd\n",
    "from sklearn.datasets import load_breast_cancer\n",
    "\n",
    "data = load_breast_cancer()\n",
    "X = pd.DataFrame(\n",
    "    data.data, columns=[col.replace(\" \", \"_\") for col in data.feature_names]\n",
    ")\n",
    "y = pd.DataFrame(pd.Series(data.target), columns=[\"target\"])\n",
    "\n",
    "X.columns = [col.replace(\" \", \"_\") for col in X.columns]\n",
    "\n",
    "for col in [\n",
    "    \"mean_radius\",\n",
    "    \"mean_texture\",\n",
    "    \"mean_perimeter\",\n",
    "    \"mean_area\",\n",
    "    \"mean_smoothness\",\n",
    "    \"mean_compactness\",\n",
    "    \"mean_concavity\",\n",
    "    \"mean_concave_points\",\n",
    "    \"mean_symmetry\",\n",
    "]:\n",
    "    X[f\"is_{col}_gt_median\"] = (X[col] > X[col].median()).astype(int)\n",
    "    X[f\"{col}_decile\"] = pd.qcut(\n",
    "        X[col], 10, labels=[f\"Q{'0' if i < 10 else ''}{i}\" for i in range(1, 11)]\n",
    "    ).astype(str)\n",
    "\n",
    "\n",
    "db.write(\"create schema if not exists cluster\")\n",
    "db.write(f\"create or replace table cluster.X as (select * from X)\")\n",
    "db.write(f\"create or replace table cluster.y as (select * from y)\")\n",
    "\n",
    "y = y.values.ravel()\n",
    "\n",
    "X.shape, y.shape"
   ]
  },
  {
   "cell_type": "code",
   "execution_count": 3,
   "metadata": {},
   "outputs": [
    {
     "data": {
      "text/html": [
       "<div>\n",
       "<style scoped>\n",
       "    .dataframe tbody tr th:only-of-type {\n",
       "        vertical-align: middle;\n",
       "    }\n",
       "\n",
       "    .dataframe tbody tr th {\n",
       "        vertical-align: top;\n",
       "    }\n",
       "\n",
       "    .dataframe thead th {\n",
       "        text-align: right;\n",
       "    }\n",
       "</style>\n",
       "<table border=\"1\" class=\"dataframe\">\n",
       "  <thead>\n",
       "    <tr style=\"text-align: right;\">\n",
       "      <th></th>\n",
       "      <th>mean_radius</th>\n",
       "      <th>mean_texture</th>\n",
       "      <th>mean_perimeter</th>\n",
       "      <th>mean_area</th>\n",
       "      <th>mean_smoothness</th>\n",
       "      <th>mean_compactness</th>\n",
       "      <th>mean_concavity</th>\n",
       "      <th>mean_concave_points</th>\n",
       "      <th>mean_symmetry</th>\n",
       "      <th>mean_fractal_dimension</th>\n",
       "      <th>...</th>\n",
       "      <th>is_mean_smoothness_gt_median</th>\n",
       "      <th>mean_smoothness_decile</th>\n",
       "      <th>is_mean_compactness_gt_median</th>\n",
       "      <th>mean_compactness_decile</th>\n",
       "      <th>is_mean_concavity_gt_median</th>\n",
       "      <th>mean_concavity_decile</th>\n",
       "      <th>is_mean_concave_points_gt_median</th>\n",
       "      <th>mean_concave_points_decile</th>\n",
       "      <th>is_mean_symmetry_gt_median</th>\n",
       "      <th>mean_symmetry_decile</th>\n",
       "    </tr>\n",
       "  </thead>\n",
       "  <tbody>\n",
       "    <tr>\n",
       "      <th>0</th>\n",
       "      <td>17.99</td>\n",
       "      <td>10.38</td>\n",
       "      <td>122.80</td>\n",
       "      <td>1001.0</td>\n",
       "      <td>0.11840</td>\n",
       "      <td>0.27760</td>\n",
       "      <td>0.3001</td>\n",
       "      <td>0.14710</td>\n",
       "      <td>0.2419</td>\n",
       "      <td>0.07871</td>\n",
       "      <td>...</td>\n",
       "      <td>1</td>\n",
       "      <td>Q10</td>\n",
       "      <td>1</td>\n",
       "      <td>Q10</td>\n",
       "      <td>1</td>\n",
       "      <td>Q10</td>\n",
       "      <td>1</td>\n",
       "      <td>Q10</td>\n",
       "      <td>1</td>\n",
       "      <td>Q10</td>\n",
       "    </tr>\n",
       "    <tr>\n",
       "      <th>1</th>\n",
       "      <td>20.57</td>\n",
       "      <td>17.77</td>\n",
       "      <td>132.90</td>\n",
       "      <td>1326.0</td>\n",
       "      <td>0.08474</td>\n",
       "      <td>0.07864</td>\n",
       "      <td>0.0869</td>\n",
       "      <td>0.07017</td>\n",
       "      <td>0.1812</td>\n",
       "      <td>0.05667</td>\n",
       "      <td>...</td>\n",
       "      <td>0</td>\n",
       "      <td>Q03</td>\n",
       "      <td>0</td>\n",
       "      <td>Q04</td>\n",
       "      <td>1</td>\n",
       "      <td>Q07</td>\n",
       "      <td>1</td>\n",
       "      <td>Q08</td>\n",
       "      <td>1</td>\n",
       "      <td>Q06</td>\n",
       "    </tr>\n",
       "    <tr>\n",
       "      <th>2</th>\n",
       "      <td>19.69</td>\n",
       "      <td>21.25</td>\n",
       "      <td>130.00</td>\n",
       "      <td>1203.0</td>\n",
       "      <td>0.10960</td>\n",
       "      <td>0.15990</td>\n",
       "      <td>0.1974</td>\n",
       "      <td>0.12790</td>\n",
       "      <td>0.2069</td>\n",
       "      <td>0.05999</td>\n",
       "      <td>...</td>\n",
       "      <td>1</td>\n",
       "      <td>Q09</td>\n",
       "      <td>1</td>\n",
       "      <td>Q09</td>\n",
       "      <td>1</td>\n",
       "      <td>Q09</td>\n",
       "      <td>1</td>\n",
       "      <td>Q10</td>\n",
       "      <td>1</td>\n",
       "      <td>Q09</td>\n",
       "    </tr>\n",
       "    <tr>\n",
       "      <th>3</th>\n",
       "      <td>11.42</td>\n",
       "      <td>20.38</td>\n",
       "      <td>77.58</td>\n",
       "      <td>386.1</td>\n",
       "      <td>0.14250</td>\n",
       "      <td>0.28390</td>\n",
       "      <td>0.2414</td>\n",
       "      <td>0.10520</td>\n",
       "      <td>0.2597</td>\n",
       "      <td>0.09744</td>\n",
       "      <td>...</td>\n",
       "      <td>1</td>\n",
       "      <td>Q10</td>\n",
       "      <td>1</td>\n",
       "      <td>Q10</td>\n",
       "      <td>1</td>\n",
       "      <td>Q10</td>\n",
       "      <td>1</td>\n",
       "      <td>Q10</td>\n",
       "      <td>1</td>\n",
       "      <td>Q10</td>\n",
       "    </tr>\n",
       "    <tr>\n",
       "      <th>4</th>\n",
       "      <td>20.29</td>\n",
       "      <td>14.34</td>\n",
       "      <td>135.10</td>\n",
       "      <td>1297.0</td>\n",
       "      <td>0.10030</td>\n",
       "      <td>0.13280</td>\n",
       "      <td>0.1980</td>\n",
       "      <td>0.10430</td>\n",
       "      <td>0.1809</td>\n",
       "      <td>0.05883</td>\n",
       "      <td>...</td>\n",
       "      <td>1</td>\n",
       "      <td>Q07</td>\n",
       "      <td>1</td>\n",
       "      <td>Q08</td>\n",
       "      <td>1</td>\n",
       "      <td>Q09</td>\n",
       "      <td>1</td>\n",
       "      <td>Q10</td>\n",
       "      <td>1</td>\n",
       "      <td>Q06</td>\n",
       "    </tr>\n",
       "  </tbody>\n",
       "</table>\n",
       "<p>5 rows × 48 columns</p>\n",
       "</div>"
      ],
      "text/plain": [
       "   mean_radius  mean_texture  mean_perimeter  mean_area  mean_smoothness  \\\n",
       "0        17.99         10.38          122.80     1001.0          0.11840   \n",
       "1        20.57         17.77          132.90     1326.0          0.08474   \n",
       "2        19.69         21.25          130.00     1203.0          0.10960   \n",
       "3        11.42         20.38           77.58      386.1          0.14250   \n",
       "4        20.29         14.34          135.10     1297.0          0.10030   \n",
       "\n",
       "   mean_compactness  mean_concavity  mean_concave_points  mean_symmetry  \\\n",
       "0           0.27760          0.3001              0.14710         0.2419   \n",
       "1           0.07864          0.0869              0.07017         0.1812   \n",
       "2           0.15990          0.1974              0.12790         0.2069   \n",
       "3           0.28390          0.2414              0.10520         0.2597   \n",
       "4           0.13280          0.1980              0.10430         0.1809   \n",
       "\n",
       "   mean_fractal_dimension  ...  is_mean_smoothness_gt_median  \\\n",
       "0                 0.07871  ...                             1   \n",
       "1                 0.05667  ...                             0   \n",
       "2                 0.05999  ...                             1   \n",
       "3                 0.09744  ...                             1   \n",
       "4                 0.05883  ...                             1   \n",
       "\n",
       "   mean_smoothness_decile  is_mean_compactness_gt_median  \\\n",
       "0                     Q10                              1   \n",
       "1                     Q03                              0   \n",
       "2                     Q09                              1   \n",
       "3                     Q10                              1   \n",
       "4                     Q07                              1   \n",
       "\n",
       "   mean_compactness_decile  is_mean_concavity_gt_median  \\\n",
       "0                      Q10                            1   \n",
       "1                      Q04                            1   \n",
       "2                      Q09                            1   \n",
       "3                      Q10                            1   \n",
       "4                      Q08                            1   \n",
       "\n",
       "   mean_concavity_decile  is_mean_concave_points_gt_median  \\\n",
       "0                    Q10                                 1   \n",
       "1                    Q07                                 1   \n",
       "2                    Q09                                 1   \n",
       "3                    Q10                                 1   \n",
       "4                    Q09                                 1   \n",
       "\n",
       "   mean_concave_points_decile  is_mean_symmetry_gt_median  \\\n",
       "0                         Q10                           1   \n",
       "1                         Q08                           1   \n",
       "2                         Q10                           1   \n",
       "3                         Q10                           1   \n",
       "4                         Q10                           1   \n",
       "\n",
       "   mean_symmetry_decile  \n",
       "0                   Q10  \n",
       "1                   Q06  \n",
       "2                   Q09  \n",
       "3                   Q10  \n",
       "4                   Q06  \n",
       "\n",
       "[5 rows x 48 columns]"
      ]
     },
     "execution_count": 3,
     "metadata": {},
     "output_type": "execute_result"
    }
   ],
   "source": [
    "X.head()"
   ]
  },
  {
   "cell_type": "code",
   "execution_count": 4,
   "metadata": {},
   "outputs": [
    {
     "data": {
      "text/html": [
       "<div><style>\n",
       ".dataframe > thead > tr,\n",
       ".dataframe > tbody > tr {\n",
       "  text-align: right;\n",
       "  white-space: pre-wrap;\n",
       "}\n",
       "</style>\n",
       "<small>shape: (5, 48)</small><table border=\"1\" class=\"dataframe\"><thead><tr><th>mean_radius</th><th>mean_texture</th><th>mean_perimeter</th><th>mean_area</th><th>mean_smoothness</th><th>mean_compactness</th><th>mean_concavity</th><th>mean_concave_points</th><th>mean_symmetry</th><th>mean_fractal_dimension</th><th>radius_error</th><th>texture_error</th><th>perimeter_error</th><th>area_error</th><th>smoothness_error</th><th>compactness_error</th><th>concavity_error</th><th>concave_points_error</th><th>symmetry_error</th><th>fractal_dimension_error</th><th>worst_radius</th><th>worst_texture</th><th>worst_perimeter</th><th>worst_area</th><th>worst_smoothness</th><th>worst_compactness</th><th>worst_concavity</th><th>worst_concave_points</th><th>worst_symmetry</th><th>worst_fractal_dimension</th><th>is_mean_radius_gt_median</th><th>mean_radius_decile</th><th>is_mean_texture_gt_median</th><th>mean_texture_decile</th><th>is_mean_perimeter_gt_median</th><th>mean_perimeter_decile</th><th>is_mean_area_gt_median</th><th>mean_area_decile</th><th>is_mean_smoothness_gt_median</th><th>mean_smoothness_decile</th><th>is_mean_compactness_gt_median</th><th>mean_compactness_decile</th><th>is_mean_concavity_gt_median</th><th>mean_concavity_decile</th><th>is_mean_concave_points_gt_median</th><th>mean_concave_points_decile</th><th>is_mean_symmetry_gt_median</th><th>mean_symmetry_decile</th></tr><tr><td>f64</td><td>f64</td><td>f64</td><td>f64</td><td>f64</td><td>f64</td><td>f64</td><td>f64</td><td>f64</td><td>f64</td><td>f64</td><td>f64</td><td>f64</td><td>f64</td><td>f64</td><td>f64</td><td>f64</td><td>f64</td><td>f64</td><td>f64</td><td>f64</td><td>f64</td><td>f64</td><td>f64</td><td>f64</td><td>f64</td><td>f64</td><td>f64</td><td>f64</td><td>f64</td><td>i64</td><td>str</td><td>i64</td><td>str</td><td>i64</td><td>str</td><td>i64</td><td>str</td><td>i64</td><td>str</td><td>i64</td><td>str</td><td>i64</td><td>str</td><td>i64</td><td>str</td><td>i64</td><td>str</td></tr></thead><tbody><tr><td>17.99</td><td>10.38</td><td>122.8</td><td>1001.0</td><td>0.1184</td><td>0.2776</td><td>0.3001</td><td>0.1471</td><td>0.2419</td><td>0.07871</td><td>1.095</td><td>0.9053</td><td>8.589</td><td>153.4</td><td>0.006399</td><td>0.04904</td><td>0.05373</td><td>0.01587</td><td>0.03003</td><td>0.006193</td><td>25.38</td><td>17.33</td><td>184.6</td><td>2019.0</td><td>0.1622</td><td>0.6656</td><td>0.7119</td><td>0.2654</td><td>0.4601</td><td>0.1189</td><td>1</td><td>&quot;Q09&quot;</td><td>0</td><td>&quot;Q01&quot;</td><td>1</td><td>&quot;Q09&quot;</td><td>1</td><td>&quot;Q09&quot;</td><td>1</td><td>&quot;Q10&quot;</td><td>1</td><td>&quot;Q10&quot;</td><td>1</td><td>&quot;Q10&quot;</td><td>1</td><td>&quot;Q10&quot;</td><td>1</td><td>&quot;Q10&quot;</td></tr><tr><td>20.57</td><td>17.77</td><td>132.9</td><td>1326.0</td><td>0.08474</td><td>0.07864</td><td>0.0869</td><td>0.07017</td><td>0.1812</td><td>0.05667</td><td>0.5435</td><td>0.7339</td><td>3.398</td><td>74.08</td><td>0.005225</td><td>0.01308</td><td>0.0186</td><td>0.0134</td><td>0.01389</td><td>0.003532</td><td>24.99</td><td>23.41</td><td>158.8</td><td>1956.0</td><td>0.1238</td><td>0.1866</td><td>0.2416</td><td>0.186</td><td>0.275</td><td>0.08902</td><td>1</td><td>&quot;Q10&quot;</td><td>0</td><td>&quot;Q04&quot;</td><td>1</td><td>&quot;Q10&quot;</td><td>1</td><td>&quot;Q10&quot;</td><td>0</td><td>&quot;Q03&quot;</td><td>0</td><td>&quot;Q04&quot;</td><td>1</td><td>&quot;Q07&quot;</td><td>1</td><td>&quot;Q08&quot;</td><td>1</td><td>&quot;Q06&quot;</td></tr><tr><td>19.69</td><td>21.25</td><td>130.0</td><td>1203.0</td><td>0.1096</td><td>0.1599</td><td>0.1974</td><td>0.1279</td><td>0.2069</td><td>0.05999</td><td>0.7456</td><td>0.7869</td><td>4.585</td><td>94.03</td><td>0.00615</td><td>0.04006</td><td>0.03832</td><td>0.02058</td><td>0.0225</td><td>0.004571</td><td>23.57</td><td>25.53</td><td>152.5</td><td>1709.0</td><td>0.1444</td><td>0.4245</td><td>0.4504</td><td>0.243</td><td>0.3613</td><td>0.08758</td><td>1</td><td>&quot;Q10&quot;</td><td>1</td><td>&quot;Q07&quot;</td><td>1</td><td>&quot;Q10&quot;</td><td>1</td><td>&quot;Q10&quot;</td><td>1</td><td>&quot;Q09&quot;</td><td>1</td><td>&quot;Q09&quot;</td><td>1</td><td>&quot;Q09&quot;</td><td>1</td><td>&quot;Q10&quot;</td><td>1</td><td>&quot;Q09&quot;</td></tr><tr><td>11.42</td><td>20.38</td><td>77.58</td><td>386.1</td><td>0.1425</td><td>0.2839</td><td>0.2414</td><td>0.1052</td><td>0.2597</td><td>0.09744</td><td>0.4956</td><td>1.156</td><td>3.445</td><td>27.23</td><td>0.00911</td><td>0.07458</td><td>0.05661</td><td>0.01867</td><td>0.05963</td><td>0.009208</td><td>14.91</td><td>26.5</td><td>98.87</td><td>567.7</td><td>0.2098</td><td>0.8663</td><td>0.6869</td><td>0.2575</td><td>0.6638</td><td>0.173</td><td>0</td><td>&quot;Q03&quot;</td><td>1</td><td>&quot;Q07&quot;</td><td>0</td><td>&quot;Q04&quot;</td><td>0</td><td>&quot;Q02&quot;</td><td>1</td><td>&quot;Q10&quot;</td><td>1</td><td>&quot;Q10&quot;</td><td>1</td><td>&quot;Q10&quot;</td><td>1</td><td>&quot;Q10&quot;</td><td>1</td><td>&quot;Q10&quot;</td></tr><tr><td>20.29</td><td>14.34</td><td>135.1</td><td>1297.0</td><td>0.1003</td><td>0.1328</td><td>0.198</td><td>0.1043</td><td>0.1809</td><td>0.05883</td><td>0.7572</td><td>0.7813</td><td>5.438</td><td>94.44</td><td>0.01149</td><td>0.02461</td><td>0.05688</td><td>0.01885</td><td>0.01756</td><td>0.005115</td><td>22.54</td><td>16.67</td><td>152.2</td><td>1575.0</td><td>0.1374</td><td>0.205</td><td>0.4</td><td>0.1625</td><td>0.2364</td><td>0.07678</td><td>1</td><td>&quot;Q10&quot;</td><td>0</td><td>&quot;Q02&quot;</td><td>1</td><td>&quot;Q10&quot;</td><td>1</td><td>&quot;Q10&quot;</td><td>1</td><td>&quot;Q07&quot;</td><td>1</td><td>&quot;Q08&quot;</td><td>1</td><td>&quot;Q09&quot;</td><td>1</td><td>&quot;Q10&quot;</td><td>1</td><td>&quot;Q06&quot;</td></tr></tbody></table></div>"
      ],
      "text/plain": [
       "shape: (5, 48)\n",
       "┌───────────┬───────────┬───────────┬───────────┬───┬───────────┬───────────┬───────────┬──────────┐\n",
       "│ mean_radi ┆ mean_text ┆ mean_peri ┆ mean_area ┆ … ┆ is_mean_c ┆ mean_conc ┆ is_mean_s ┆ mean_sym │\n",
       "│ us        ┆ ure       ┆ meter     ┆ ---       ┆   ┆ oncave_po ┆ ave_point ┆ ymmetry_g ┆ metry_de │\n",
       "│ ---       ┆ ---       ┆ ---       ┆ f64       ┆   ┆ ints_gt_m ┆ s_decile  ┆ t_median  ┆ cile     │\n",
       "│ f64       ┆ f64       ┆ f64       ┆           ┆   ┆ edi…      ┆ ---       ┆ ---       ┆ ---      │\n",
       "│           ┆           ┆           ┆           ┆   ┆ ---       ┆ str       ┆ i64       ┆ str      │\n",
       "│           ┆           ┆           ┆           ┆   ┆ i64       ┆           ┆           ┆          │\n",
       "╞═══════════╪═══════════╪═══════════╪═══════════╪═══╪═══════════╪═══════════╪═══════════╪══════════╡\n",
       "│ 17.99     ┆ 10.38     ┆ 122.8     ┆ 1001.0    ┆ … ┆ 1         ┆ Q10       ┆ 1         ┆ Q10      │\n",
       "│ 20.57     ┆ 17.77     ┆ 132.9     ┆ 1326.0    ┆ … ┆ 1         ┆ Q08       ┆ 1         ┆ Q06      │\n",
       "│ 19.69     ┆ 21.25     ┆ 130.0     ┆ 1203.0    ┆ … ┆ 1         ┆ Q10       ┆ 1         ┆ Q09      │\n",
       "│ 11.42     ┆ 20.38     ┆ 77.58     ┆ 386.1     ┆ … ┆ 1         ┆ Q10       ┆ 1         ┆ Q10      │\n",
       "│ 20.29     ┆ 14.34     ┆ 135.1     ┆ 1297.0    ┆ … ┆ 1         ┆ Q10       ┆ 1         ┆ Q06      │\n",
       "└───────────┴───────────┴───────────┴───────────┴───┴───────────┴───────────┴───────────┴──────────┘"
      ]
     },
     "execution_count": 4,
     "metadata": {},
     "output_type": "execute_result"
    }
   ],
   "source": [
    "db(\"from cluster.X\").head()"
   ]
  },
  {
   "cell_type": "code",
   "execution_count": 5,
   "metadata": {},
   "outputs": [
    {
     "data": {
      "text/html": [
       "<div><style>\n",
       ".dataframe > thead > tr,\n",
       ".dataframe > tbody > tr {\n",
       "  text-align: right;\n",
       "  white-space: pre-wrap;\n",
       "}\n",
       "</style>\n",
       "<small>shape: (1, 48)</small><table border=\"1\" class=\"dataframe\"><thead><tr><th>mean_radius</th><th>mean_texture</th><th>mean_perimeter</th><th>mean_area</th><th>mean_smoothness</th><th>mean_compactness</th><th>mean_concavity</th><th>mean_concave_points</th><th>mean_symmetry</th><th>mean_fractal_dimension</th><th>radius_error</th><th>texture_error</th><th>perimeter_error</th><th>area_error</th><th>smoothness_error</th><th>compactness_error</th><th>concavity_error</th><th>concave_points_error</th><th>symmetry_error</th><th>fractal_dimension_error</th><th>worst_radius</th><th>worst_texture</th><th>worst_perimeter</th><th>worst_area</th><th>worst_smoothness</th><th>worst_compactness</th><th>worst_concavity</th><th>worst_concave_points</th><th>worst_symmetry</th><th>worst_fractal_dimension</th><th>is_mean_radius_gt_median</th><th>mean_radius_decile</th><th>is_mean_texture_gt_median</th><th>mean_texture_decile</th><th>is_mean_perimeter_gt_median</th><th>mean_perimeter_decile</th><th>is_mean_area_gt_median</th><th>mean_area_decile</th><th>is_mean_smoothness_gt_median</th><th>mean_smoothness_decile</th><th>is_mean_compactness_gt_median</th><th>mean_compactness_decile</th><th>is_mean_concavity_gt_median</th><th>mean_concavity_decile</th><th>is_mean_concave_points_gt_median</th><th>mean_concave_points_decile</th><th>is_mean_symmetry_gt_median</th><th>mean_symmetry_decile</th></tr><tr><td>i64</td><td>i64</td><td>i64</td><td>i64</td><td>i64</td><td>i64</td><td>i64</td><td>i64</td><td>i64</td><td>i64</td><td>i64</td><td>i64</td><td>i64</td><td>i64</td><td>i64</td><td>i64</td><td>i64</td><td>i64</td><td>i64</td><td>i64</td><td>i64</td><td>i64</td><td>i64</td><td>i64</td><td>i64</td><td>i64</td><td>i64</td><td>i64</td><td>i64</td><td>i64</td><td>i64</td><td>i64</td><td>i64</td><td>i64</td><td>i64</td><td>i64</td><td>i64</td><td>i64</td><td>i64</td><td>i64</td><td>i64</td><td>i64</td><td>i64</td><td>i64</td><td>i64</td><td>i64</td><td>i64</td><td>i64</td></tr></thead><tbody><tr><td>456</td><td>479</td><td>522</td><td>539</td><td>474</td><td>537</td><td>537</td><td>542</td><td>432</td><td>499</td><td>540</td><td>519</td><td>533</td><td>528</td><td>547</td><td>541</td><td>533</td><td>507</td><td>498</td><td>545</td><td>457</td><td>511</td><td>514</td><td>544</td><td>411</td><td>529</td><td>539</td><td>492</td><td>500</td><td>535</td><td>2</td><td>10</td><td>2</td><td>10</td><td>2</td><td>10</td><td>2</td><td>10</td><td>2</td><td>10</td><td>2</td><td>10</td><td>2</td><td>10</td><td>2</td><td>10</td><td>2</td><td>10</td></tr></tbody></table></div>"
      ],
      "text/plain": [
       "shape: (1, 48)\n",
       "┌───────────┬───────────┬───────────┬───────────┬───┬───────────┬───────────┬───────────┬──────────┐\n",
       "│ mean_radi ┆ mean_text ┆ mean_peri ┆ mean_area ┆ … ┆ is_mean_c ┆ mean_conc ┆ is_mean_s ┆ mean_sym │\n",
       "│ us        ┆ ure       ┆ meter     ┆ ---       ┆   ┆ oncave_po ┆ ave_point ┆ ymmetry_g ┆ metry_de │\n",
       "│ ---       ┆ ---       ┆ ---       ┆ i64       ┆   ┆ ints_gt_m ┆ s_decile  ┆ t_median  ┆ cile     │\n",
       "│ i64       ┆ i64       ┆ i64       ┆           ┆   ┆ edi…      ┆ ---       ┆ ---       ┆ ---      │\n",
       "│           ┆           ┆           ┆           ┆   ┆ ---       ┆ i64       ┆ i64       ┆ i64      │\n",
       "│           ┆           ┆           ┆           ┆   ┆ i64       ┆           ┆           ┆          │\n",
       "╞═══════════╪═══════════╪═══════════╪═══════════╪═══╪═══════════╪═══════════╪═══════════╪══════════╡\n",
       "│ 456       ┆ 479       ┆ 522       ┆ 539       ┆ … ┆ 2         ┆ 10        ┆ 2         ┆ 10       │\n",
       "└───────────┴───────────┴───────────┴───────────┴───┴───────────┴───────────┴───────────┴──────────┘"
      ]
     },
     "execution_count": 5,
     "metadata": {},
     "output_type": "execute_result"
    }
   ],
   "source": [
    "db(\"select count(distinct columns(*)) from cluster.X\")\n",
    "# .to_series()"
   ]
  },
  {
   "cell_type": "code",
   "execution_count": 6,
   "metadata": {},
   "outputs": [
    {
     "ename": "ConversionException",
     "evalue": "Conversion Error: Could not convert string 'Q09' to INT64\nLINE 13: ... if not exists bin_cat;\n        create or replace table bin_cat.is_mean_radius...\n                                                   ^",
     "output_type": "error",
     "traceback": [
      "\u001b[0;31m---------------------------------------------------------------------------\u001b[0m",
      "\u001b[0;31mConversionException\u001b[0m                       Traceback (most recent call last)",
      "Cell \u001b[0;32mIn[6], line 56\u001b[0m\n\u001b[1;32m     54\u001b[0m     conn\u001b[38;5;241m.\u001b[39mexecute(binary_binary_query(col1, col2))\n\u001b[1;32m     55\u001b[0m \u001b[38;5;28;01melif\u001b[39;00m dtype1 \u001b[38;5;241m==\u001b[39m \u001b[38;5;124m\"\u001b[39m\u001b[38;5;124mbinary\u001b[39m\u001b[38;5;124m\"\u001b[39m \u001b[38;5;129;01mand\u001b[39;00m dtype2 \u001b[38;5;241m==\u001b[39m \u001b[38;5;124m\"\u001b[39m\u001b[38;5;124mcategorical\u001b[39m\u001b[38;5;124m\"\u001b[39m:\n\u001b[0;32m---> 56\u001b[0m     \u001b[43mconn\u001b[49m\u001b[38;5;241;43m.\u001b[39;49m\u001b[43mexecute\u001b[49m\u001b[43m(\u001b[49m\u001b[43mbinary_categorical_query\u001b[49m\u001b[43m(\u001b[49m\u001b[43mcol1\u001b[49m\u001b[43m,\u001b[49m\u001b[43m \u001b[49m\u001b[43mcol2\u001b[49m\u001b[43m)\u001b[49m\u001b[43m)\u001b[49m\n\u001b[1;32m     57\u001b[0m \u001b[38;5;28;01melse\u001b[39;00m:\n\u001b[1;32m     58\u001b[0m     \u001b[38;5;28;01mcontinue\u001b[39;00m\n",
      "\u001b[0;31mConversionException\u001b[0m: Conversion Error: Could not convert string 'Q09' to INT64\nLINE 13: ... if not exists bin_cat;\n        create or replace table bin_cat.is_mean_radius...\n                                                   ^"
     ]
    }
   ],
   "source": [
    "import itertools\n",
    "from cluster_features.queries import (\n",
    "    cts_cts_query,\n",
    "    binary_binary_query,\n",
    "    binary_categorical_query,\n",
    ")\n",
    "from predictables.util import get_column_dtype\n",
    "\n",
    "n_distinct = db(\"select count(distinct columns(*)) from cluster.X\")\n",
    "\n",
    "\n",
    "def is_binary(col):\n",
    "    if col.startswith(\"is_\"):\n",
    "        return True\n",
    "    elif n_distinct[col][0] == 2:\n",
    "        return True\n",
    "    return False\n",
    "\n",
    "\n",
    "def is_continuous(col):\n",
    "    # if float, then continuous\n",
    "    if X[col].dtype in [\"float64\", \"float32\"]:\n",
    "        return True\n",
    "    elif (X[col].dtype in [\"int64\", \"int32\", \"int16\", \"int8\", \"bool\"]) and is_binary(\n",
    "        col\n",
    "    ):\n",
    "        return False\n",
    "    elif (\n",
    "        X[col].dtype in [\"int64\", \"int32\", \"int16\", \"int8\", \"bool\"]\n",
    "    ) and not is_binary(col):\n",
    "        return True\n",
    "\n",
    "    return False\n",
    "\n",
    "\n",
    "def get_type(col):\n",
    "    if is_continuous(col):\n",
    "        return \"continuous\"\n",
    "    elif is_binary(col):\n",
    "        return \"binary\"\n",
    "    return \"categorical\"\n",
    "\n",
    "\n",
    "binary_cols = [col for col in X.columns if is_binary(col)]\n",
    "\n",
    "with db as conn:\n",
    "    for col1, col2 in itertools.combinations(X.columns.tolist(), 2):\n",
    "        dtype1 = get_type(col1)\n",
    "        dtype2 = get_type(col2)\n",
    "\n",
    "        if dtype1 == \"continuous\" and dtype2 == \"continuous\":\n",
    "            conn.execute(cts_cts_query(col1, col2))\n",
    "        elif dtype1 == \"binary\" and dtype2 == \"binary\":\n",
    "            conn.execute(binary_binary_query(col1, col2))\n",
    "        elif dtype1 == \"binary\" and dtype2 == \"categorical\":\n",
    "            conn.execute(binary_categorical_query(col1, col2))\n",
    "        else:\n",
    "            continue"
   ]
  },
  {
   "cell_type": "code",
   "execution_count": null,
   "metadata": {},
   "outputs": [
    {
     "data": {
      "text/html": [
       "<div><style>\n",
       ".dataframe > thead > tr,\n",
       ".dataframe > tbody > tr {\n",
       "  text-align: right;\n",
       "  white-space: pre-wrap;\n",
       "}\n",
       "</style>\n",
       "<small>shape: (569, 6)</small><table border=\"1\" class=\"dataframe\"><thead><tr><th>is_mean_area_gt_median</th><th>is_mean_compactness_gt_median</th><th>_intersection</th><th>_union</th><th>jaccard_similarity</th><th>hamming_distance</th></tr><tr><td>i64</td><td>i64</td><td>f64</td><td>f64</td><td>f64</td><td>f64</td></tr></thead><tbody><tr><td>1</td><td>1</td><td>389.0</td><td>569.0</td><td>0.683656</td><td>180.0</td></tr><tr><td>1</td><td>0</td><td>389.0</td><td>569.0</td><td>0.683656</td><td>180.0</td></tr><tr><td>1</td><td>1</td><td>389.0</td><td>569.0</td><td>0.683656</td><td>180.0</td></tr><tr><td>0</td><td>1</td><td>389.0</td><td>569.0</td><td>0.683656</td><td>180.0</td></tr><tr><td>1</td><td>1</td><td>389.0</td><td>569.0</td><td>0.683656</td><td>180.0</td></tr><tr><td>&hellip;</td><td>&hellip;</td><td>&hellip;</td><td>&hellip;</td><td>&hellip;</td><td>&hellip;</td></tr><tr><td>1</td><td>1</td><td>389.0</td><td>569.0</td><td>0.683656</td><td>180.0</td></tr><tr><td>1</td><td>1</td><td>389.0</td><td>569.0</td><td>0.683656</td><td>180.0</td></tr><tr><td>1</td><td>1</td><td>389.0</td><td>569.0</td><td>0.683656</td><td>180.0</td></tr><tr><td>1</td><td>1</td><td>389.0</td><td>569.0</td><td>0.683656</td><td>180.0</td></tr><tr><td>0</td><td>0</td><td>389.0</td><td>569.0</td><td>0.683656</td><td>180.0</td></tr></tbody></table></div>"
      ],
      "text/plain": [
       "shape: (569, 6)\n",
       "┌──────────────────┬──────────────────┬───────────────┬────────┬─────────────────┬─────────────────┐\n",
       "│ is_mean_area_gt_ ┆ is_mean_compactn ┆ _intersection ┆ _union ┆ jaccard_similar ┆ hamming_distanc │\n",
       "│ median           ┆ ess_gt_median    ┆ ---           ┆ ---    ┆ ity             ┆ e               │\n",
       "│ ---              ┆ ---              ┆ f64           ┆ f64    ┆ ---             ┆ ---             │\n",
       "│ i64              ┆ i64              ┆               ┆        ┆ f64             ┆ f64             │\n",
       "╞══════════════════╪══════════════════╪═══════════════╪════════╪═════════════════╪═════════════════╡\n",
       "│ 1                ┆ 1                ┆ 389.0         ┆ 569.0  ┆ 0.683656        ┆ 180.0           │\n",
       "│ 1                ┆ 0                ┆ 389.0         ┆ 569.0  ┆ 0.683656        ┆ 180.0           │\n",
       "│ 1                ┆ 1                ┆ 389.0         ┆ 569.0  ┆ 0.683656        ┆ 180.0           │\n",
       "│ 0                ┆ 1                ┆ 389.0         ┆ 569.0  ┆ 0.683656        ┆ 180.0           │\n",
       "│ 1                ┆ 1                ┆ 389.0         ┆ 569.0  ┆ 0.683656        ┆ 180.0           │\n",
       "│ …                ┆ …                ┆ …             ┆ …      ┆ …               ┆ …               │\n",
       "│ 1                ┆ 1                ┆ 389.0         ┆ 569.0  ┆ 0.683656        ┆ 180.0           │\n",
       "│ 1                ┆ 1                ┆ 389.0         ┆ 569.0  ┆ 0.683656        ┆ 180.0           │\n",
       "│ 1                ┆ 1                ┆ 389.0         ┆ 569.0  ┆ 0.683656        ┆ 180.0           │\n",
       "│ 1                ┆ 1                ┆ 389.0         ┆ 569.0  ┆ 0.683656        ┆ 180.0           │\n",
       "│ 0                ┆ 0                ┆ 389.0         ┆ 569.0  ┆ 0.683656        ┆ 180.0           │\n",
       "└──────────────────┴──────────────────┴───────────────┴────────┴─────────────────┴─────────────────┘"
      ]
     },
     "execution_count": 7,
     "metadata": {},
     "output_type": "execute_result"
    }
   ],
   "source": [
    "db(\"from is_mean_area_gt_median__is_mean_compactness_gt_median\")"
   ]
  },
  {
   "cell_type": "code",
   "execution_count": null,
   "metadata": {},
   "outputs": [
    {
     "data": {
      "text/plain": [
       "'is_mean_area_gt_median__is_mean_compactness_gt_median'"
      ]
     },
     "execution_count": 8,
     "metadata": {},
     "output_type": "execute_result"
    }
   ],
   "source": [
    "db(\n",
    "    \"select table_schema, table_name from information_schema.tables where starts_with(table_name, 'is')\"\n",
    ").to_pandas().table_name[0]"
   ]
  },
  {
   "cell_type": "code",
   "execution_count": null,
   "metadata": {},
   "outputs": [
    {
     "data": {
      "text/html": [
       "<div><style>\n",
       ".dataframe > thead > tr,\n",
       ".dataframe > tbody > tr {\n",
       "  text-align: right;\n",
       "  white-space: pre-wrap;\n",
       "}\n",
       "</style>\n",
       "<small>shape: (471, 3)</small><table border=\"1\" class=\"dataframe\"><thead><tr><th>name</th><th>col1</th><th>col2</th></tr><tr><td>str</td><td>str</td><td>str</td></tr></thead><tbody><tr><td>&quot;area_error__compactness_error&quot;</td><td>&quot;area_error&quot;</td><td>&quot;compactness_error&quot;</td></tr><tr><td>&quot;area_error__concave_points_err…</td><td>&quot;area_error&quot;</td><td>&quot;concave_points_error&quot;</td></tr><tr><td>&quot;area_error__concavity_error&quot;</td><td>&quot;area_error&quot;</td><td>&quot;concavity_error&quot;</td></tr><tr><td>&quot;area_error__fractal_dimension_…</td><td>&quot;area_error&quot;</td><td>&quot;fractal_dimension_error&quot;</td></tr><tr><td>&quot;area_error__smoothness_error&quot;</td><td>&quot;area_error&quot;</td><td>&quot;smoothness_error&quot;</td></tr><tr><td>&hellip;</td><td>&hellip;</td><td>&hellip;</td></tr><tr><td>&quot;worst_texture__worst_concavity&quot;</td><td>&quot;worst_texture&quot;</td><td>&quot;worst_concavity&quot;</td></tr><tr><td>&quot;worst_texture__worst_fractal_d…</td><td>&quot;worst_texture&quot;</td><td>&quot;worst_fractal_dimension&quot;</td></tr><tr><td>&quot;worst_texture__worst_perimeter&quot;</td><td>&quot;worst_texture&quot;</td><td>&quot;worst_perimeter&quot;</td></tr><tr><td>&quot;worst_texture__worst_smoothnes…</td><td>&quot;worst_texture&quot;</td><td>&quot;worst_smoothness&quot;</td></tr><tr><td>&quot;worst_texture__worst_symmetry&quot;</td><td>&quot;worst_texture&quot;</td><td>&quot;worst_symmetry&quot;</td></tr></tbody></table></div>"
      ],
      "text/plain": [
       "shape: (471, 3)\n",
       "┌─────────────────────────────────┬───────────────┬─────────────────────────┐\n",
       "│ name                            ┆ col1          ┆ col2                    │\n",
       "│ ---                             ┆ ---           ┆ ---                     │\n",
       "│ str                             ┆ str           ┆ str                     │\n",
       "╞═════════════════════════════════╪═══════════════╪═════════════════════════╡\n",
       "│ area_error__compactness_error   ┆ area_error    ┆ compactness_error       │\n",
       "│ area_error__concave_points_err… ┆ area_error    ┆ concave_points_error    │\n",
       "│ area_error__concavity_error     ┆ area_error    ┆ concavity_error         │\n",
       "│ area_error__fractal_dimension_… ┆ area_error    ┆ fractal_dimension_error │\n",
       "│ area_error__smoothness_error    ┆ area_error    ┆ smoothness_error        │\n",
       "│ …                               ┆ …             ┆ …                       │\n",
       "│ worst_texture__worst_concavity  ┆ worst_texture ┆ worst_concavity         │\n",
       "│ worst_texture__worst_fractal_d… ┆ worst_texture ┆ worst_fractal_dimension │\n",
       "│ worst_texture__worst_perimeter  ┆ worst_texture ┆ worst_perimeter         │\n",
       "│ worst_texture__worst_smoothnes… ┆ worst_texture ┆ worst_smoothness        │\n",
       "│ worst_texture__worst_symmetry   ┆ worst_texture ┆ worst_symmetry          │\n",
       "└─────────────────────────────────┴───────────────┴─────────────────────────┘"
      ]
     },
     "execution_count": 9,
     "metadata": {},
     "output_type": "execute_result"
    }
   ],
   "source": [
    "db(\"show tables\").with_columns(\n",
    "    [\n",
    "        pl.col(\"name\").str.split(\"__\").list.get(0).alias(\"col1\"),\n",
    "        pl.col(\"name\").str.split(\"__\").list.get(1).alias(\"col2\"),\n",
    "    ]\n",
    ")"
   ]
  },
  {
   "cell_type": "code",
   "execution_count": null,
   "metadata": {},
   "outputs": [
    {
     "data": {
      "text/plain": [
       "435"
      ]
     },
     "execution_count": 10,
     "metadata": {},
     "output_type": "execute_result"
    }
   ],
   "source": [
    "from math import comb\n",
    "\n",
    "comb(30, 2)"
   ]
  }
 ],
 "metadata": {
  "kernelspec": {
   "display_name": ".venv",
   "language": "python",
   "name": "python3"
  },
  "language_info": {
   "codemirror_mode": {
    "name": "ipython",
    "version": 3
   },
   "file_extension": ".py",
   "mimetype": "text/x-python",
   "name": "python",
   "nbconvert_exporter": "python",
   "pygments_lexer": "ipython3",
   "version": "3.11.8"
  }
 },
 "nbformat": 4,
 "nbformat_minor": 2
}
